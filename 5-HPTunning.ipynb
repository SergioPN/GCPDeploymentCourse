{
 "cells": [
  {
   "cell_type": "markdown",
   "id": "231cea39",
   "metadata": {},
   "source": [
    "# Hyperparameter Tunning\n",
    "\n",
    "https://github.com/GoogleCloudPlatform/cloudml-hypertune"
   ]
  },
  {
   "cell_type": "code",
   "execution_count": null,
   "id": "d2da9e84",
   "metadata": {},
   "outputs": [],
   "source": []
  }
 ],
 "metadata": {
  "environment": {
   "name": "tf2-gpu.2-3.m74",
   "type": "gcloud",
   "uri": "gcr.io/deeplearning-platform-release/tf2-gpu.2-3:m74"
  },
  "kernelspec": {
   "display_name": "Python 3",
   "language": "python",
   "name": "python3"
  },
  "language_info": {
   "codemirror_mode": {
    "name": "ipython",
    "version": 3
   },
   "file_extension": ".py",
   "mimetype": "text/x-python",
   "name": "python",
   "nbconvert_exporter": "python",
   "pygments_lexer": "ipython3",
   "version": "3.7.10"
  }
 },
 "nbformat": 4,
 "nbformat_minor": 5
}
