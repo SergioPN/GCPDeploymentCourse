{
 "cells": [
  {
   "cell_type": "markdown",
   "id": "republican-extreme",
   "metadata": {},
   "source": [
    "# GCP Vertex AI"
   ]
  },
  {
   "cell_type": "markdown",
   "id": "4f662229-edce-4dcc-9e40-884793e3dabe",
   "metadata": {},
   "source": [
    "## Pricing\n",
    "\n",
    "https://cloud.google.com/vertex-ai/pricing\n",
    "\n",
    "\n",
    "SKU Stoke-Keeping Unit\n",
    "\n",
    "Siempre que empleamos un recurso de GCP, como puede ser AutoML, Pub/Sub, IoT core los costes son reportados en SKU. \n",
    "\n",
    "\n",
    "## Quotas\n",
    "\n",
    "https://cloud.google.com/vertex-ai/quotas"
   ]
  },
  {
   "cell_type": "code",
   "execution_count": 1,
   "id": "54d7f503-ff50-49a0-9368-caeedd98ba3a",
   "metadata": {},
   "outputs": [],
   "source": [
    "## SSH\n",
    "\n",
    "Clave pública y clave privada\n",
    "\n",
    "https://cloud.google.com/compute/docs/instances/adding-removing-ssh-keys\n",
    "      "
   ]
  },
  {
   "cell_type": "code",
   "execution_count": null,
   "id": "public-condition",
   "metadata": {},
   "outputs": [],
   "source": [
    "ssh-keygen -t rsa -b 4096 -C \"your_email@example.com\""
   ]
  },
  {
   "cell_type": "markdown",
   "id": "528ddac9-bfb8-4e1d-ad2f-d808947fa565",
   "metadata": {},
   "source": [
    "# Vertex\n",
    "\n",
    "APIs que tenemos que activar\n",
    "\n",
    "* Vertex AI API\n",
    "* Google Container Registry API\n",
    "* Compute Engine API"
   ]
  }
 ],
 "metadata": {
  "kernelspec": {
   "display_name": "Python 3",
   "language": "python",
   "name": "python3"
  },
  "language_info": {
   "codemirror_mode": {
    "name": "ipython",
    "version": 3
   },
   "file_extension": ".py",
   "mimetype": "text/x-python",
   "name": "python",
   "nbconvert_exporter": "python",
   "pygments_lexer": "ipython3",
   "version": "3.8.5"
  }
 },
 "nbformat": 4,
 "nbformat_minor": 5
}
