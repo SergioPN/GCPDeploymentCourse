{
 "cells": [
  {
   "cell_type": "markdown",
   "id": "republican-extreme",
   "metadata": {},
   "source": [
    "# GCP Vertex AI\n",
    "\n",
    "https://cloud.google.com/vertex-ai"
   ]
  },
  {
   "cell_type": "markdown",
   "id": "2c8e42e1-513a-4e18-9b9d-af0cf54536b5",
   "metadata": {},
   "source": [
    "## Pricing\n",
    "\n",
    "https://cloud.google.com/vertex-ai/pricing\n",
    "\n",
    "\n",
    "SKU Stoke-Keeping Unit\n",
    "\n",
    "Siempre que empleamos un recurso de GCP, como puede ser AutoML, Pub/Sub, IoT core los costes son reportados en SKU. \n",
    "\n",
    "\n",
    "## Quotas\n",
    "\n",
    "https://cloud.google.com/vertex-ai/quotas\n",
    "\n",
    "## Requerimientos Vertex AI\n",
    "\n",
    "APIs que tenemos que activar\n",
    "\n",
    "* Vertex AI API\n",
    "* Google Container Registry API\n",
    "* Compute Engine API"
   ]
  },
  {
   "cell_type": "markdown",
   "id": "bf668317-ded2-4be4-aaed-635c99ea33f8",
   "metadata": {},
   "source": [
    "Docker Containers: https://console.cloud.google.com/gcr/images/deeplearning-platform-release/GLOBAL"
   ]
  },
  {
   "cell_type": "code",
   "execution_count": null,
   "id": "f56329f7-1b10-481d-bbe9-e6cc08accf07",
   "metadata": {},
   "outputs": [],
   "source": []
  }
 ],
 "metadata": {
  "kernelspec": {
   "display_name": "Python 3 (ipykernel)",
   "language": "python",
   "name": "python3"
  },
  "language_info": {
   "codemirror_mode": {
    "name": "ipython",
    "version": 3
   },
   "file_extension": ".py",
   "mimetype": "text/x-python",
   "name": "python",
   "nbconvert_exporter": "python",
   "pygments_lexer": "ipython3",
   "version": "3.8.9"
  }
 },
 "nbformat": 4,
 "nbformat_minor": 5
}
